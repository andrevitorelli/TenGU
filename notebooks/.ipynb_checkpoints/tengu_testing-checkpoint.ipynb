{
 "cells": [
  {
   "cell_type": "markdown",
   "id": "hearing-medicaid",
   "metadata": {},
   "source": [
    "# Tengu Testing"
   ]
  },
  {
   "cell_type": "code",
   "execution_count": 1,
   "id": "revolutionary-gardening",
   "metadata": {},
   "outputs": [],
   "source": [
    "import numpy as np\n",
    "from matplotlib import pyplot as plt\n",
    "from scipy.stats import gaussian_kde, pearsonr\n",
    "from functools import partial\n",
    "\n",
    "from astropy.table import Table\n",
    "from astropy.io import fits\n",
    "\n",
    "import galsim\n",
    "import ngmix\n",
    "\n",
    "import os\n",
    "import time"
   ]
  },
  {
   "cell_type": "code",
   "execution_count": 2,
   "id": "affecting-treat",
   "metadata": {},
   "outputs": [
    {
     "name": "stdout",
     "output_type": "stream",
     "text": [
      "Tensorflow version: 2.4.1\n"
     ]
    }
   ],
   "source": [
    "import tensorflow as tf\n",
    "from tensorflow.keras.callbacks import TensorBoard\n",
    "#from keras.backend.tensorflow_backend import set_session\n",
    "config = tf.compat.v1.ConfigProto()\n",
    "config.gpu_options.allow_growth = True\n",
    "sess = tf.compat.v1.Session(config=config)\n",
    "\n",
    "#keras only after gpu ID and memory usage is set\n",
    "import tensorflow.keras.models as km\n",
    "import tensorflow.keras.layers as kl\n",
    "import tensorflow.keras.regularizers as kr\n",
    "import tensorflow.keras.backend as K\n",
    "import tensorflow.keras.optimizers as ko\n",
    "\n",
    "#from keras.utils.training_utils import multi_gpu_model\n",
    "from tensorflow.keras.models import Model\n",
    "from tensorflow.keras.layers import Conv2D, AveragePooling2D, Input, Dense, Activation\n",
    "from tensorflow.keras.layers import BatchNormalization, GlobalAveragePooling2D\n",
    "\n",
    "print(\"Tensorflow version: {}\".format(tf.version.VERSION))"
   ]
  },
  {
   "cell_type": "code",
   "execution_count": 3,
   "id": "killing-harvest",
   "metadata": {},
   "outputs": [],
   "source": [
    "import tensorflow_datasets as tfds"
   ]
  },
  {
   "cell_type": "code",
   "execution_count": 4,
   "id": "declared-worth",
   "metadata": {},
   "outputs": [],
   "source": [
    "def Ribli19(imsize=50, n_target=2 ,n_channels=1, nf=64, reg = 5e-5,\n",
    "          padding='same', gpu='0'):\n",
    "\n",
    "    #input\n",
    "    inp = kl.Input((imsize, imsize,n_channels))\n",
    "    \n",
    "    # conv block 1\n",
    "    x = kl.Conv2D(nf, (3, 3), padding=padding,kernel_regularizer=kr.l2(reg))(inp)\n",
    "    x = kl.Activation('relu')(kl.BatchNormalization()(x))\n",
    "    \n",
    "    x = kl.Conv2D(nf, (3, 3), padding=padding,kernel_regularizer=kr.l2(reg))(x)\n",
    "    x = kl.Activation('relu')(kl.BatchNormalization()(x))\n",
    "    \n",
    "    x = kl.MaxPooling2D(strides=(2,2))(x)\n",
    "    \n",
    "    # conv block 2\n",
    "    x = kl.Conv2D(2*nf, (3, 3), padding=padding,kernel_regularizer=kr.l2(reg))(x)\n",
    "    x = kl.Activation('relu')(kl.BatchNormalization()(x))\n",
    "    \n",
    "    x = kl.Conv2D(2*nf, (3, 3), padding=padding, kernel_regularizer=kr.l2(reg))(x)\n",
    "    x = kl.Activation('relu')(kl.BatchNormalization()(x))\n",
    "    \n",
    "    x = kl.MaxPooling2D(strides=(2,2))(x)\n",
    "\n",
    "    # conv block 3\n",
    "    x = kl.Conv2D(4*nf, (3, 3), padding=padding, kernel_regularizer=kr.l2(reg))(x)\n",
    "    x = kl.Activation('relu')(kl.BatchNormalization()(x))\n",
    "    \n",
    "    x = kl.Conv2D(2*nf, (1, 1), padding=padding, kernel_regularizer=kr.l2(reg))(x)\n",
    "    x = kl.Activation('relu')(kl.BatchNormalization()(x))\n",
    "    \n",
    "    x = kl.Conv2D(4*nf, (3, 3), padding=padding, kernel_regularizer=kr.l2(reg))(x)\n",
    "    x = kl.Activation('relu')(kl.BatchNormalization()(x))\n",
    "    x = kl.MaxPooling2D(strides=(2,2))(x)\n",
    "\n",
    "    # conv block 4\n",
    "    x = kl.Conv2D(8*nf, (3, 3), padding=padding, kernel_regularizer=kr.l2(reg))(x)\n",
    "    x = kl.Activation('relu')(kl.BatchNormalization()(x))\n",
    "    \n",
    "    x = kl.Conv2D(4*nf, (1, 1), padding=padding, kernel_regularizer=kr.l2(reg))(x)\n",
    "    x = kl.Activation('relu')(kl.BatchNormalization()(x))\n",
    "    \n",
    "    x = kl.Conv2D(8*nf, (3, 3), padding=padding, kernel_regularizer=kr.l2(reg))(x)\n",
    "    x = kl.Activation('relu')(kl.BatchNormalization()(x))\n",
    "    x = kl.MaxPooling2D(strides=(2,2))(x)\n",
    "    \n",
    "    # conv block 5\n",
    "    x = kl.Conv2D(16*nf, (3, 3), padding=padding, kernel_regularizer=kr.l2(reg))(x)\n",
    "    x = kl.Activation('relu')(kl.BatchNormalization()(x))\n",
    "    \n",
    "    x = kl.Conv2D(8*nf, (1, 1), padding=padding,  kernel_regularizer=kr.l2(reg))(x)\n",
    "    x = kl.Activation('relu')(kl.BatchNormalization()(x))\n",
    "    \n",
    "    x = kl.Conv2D(16*nf, (3, 3), padding=padding, kernel_regularizer=kr.l2(reg))(x)\n",
    "    x = kl.Activation('relu')(kl.BatchNormalization()(x))\n",
    "    \n",
    "    #  end of conv\n",
    "    \n",
    "    x = kl.GlobalAveragePooling2D()(x)    \n",
    "    x = kl.Dense(n_target, name = 'final_dense_n%d_ngpu%d' % (n_target, len(gpu.split(','))))(x)  \n",
    "\n",
    "    model = km.Model(inputs=inp, outputs=x)  # make model\n",
    "       \n",
    "    return model"
   ]
  },
  {
   "cell_type": "code",
   "execution_count": 5,
   "id": "printable-communist",
   "metadata": {
    "tags": []
   },
   "outputs": [],
   "source": [
    "(datat, datav), ds_info = tfds.load('inverse_cat',as_supervised=True,split=['train[:70%]', 'train[70%:]'],with_info=True)\n",
    "datat = datat.cache()\n",
    "datat = datat.shuffle(ds_info.splits['train'].num_examples)\n",
    "datat = datat.batch(128)\n",
    "datat = datat.prefetch(tf.data.experimental.AUTOTUNE)"
   ]
  },
  {
   "cell_type": "code",
   "execution_count": 6,
   "id": "billion-organization",
   "metadata": {},
   "outputs": [],
   "source": [
    "datav = datav.cache()\n",
    "datav = datav.shuffle(ds_info.splits['train'].num_examples)\n",
    "datav = datav.batch(128)\n",
    "datav = datav.prefetch(tf.data.experimental.AUTOTUNE)"
   ]
  },
  {
   "cell_type": "code",
   "execution_count": 7,
   "id": "happy-northeast",
   "metadata": {},
   "outputs": [],
   "source": [
    "model = Ribli19(50,n_channels=1)"
   ]
  },
  {
   "cell_type": "code",
   "execution_count": null,
   "id": "extra-witch",
   "metadata": {},
   "outputs": [
    {
     "name": "stdout",
     "output_type": "stream",
     "text": [
      "Epoch 1/20\n",
      "547/547 [==============================] - 983s 2s/step - loss: 0.3053 - mae: 0.1849 - mse: 0.1119 - val_loss: 1.3948 - val_mae: 0.8454 - val_mse: 1.2021\n",
      "Epoch 2/20\n",
      "547/547 [==============================] - 966s 2s/step - loss: 0.1955 - mae: 0.0447 - mse: 0.0030 - val_loss: 0.1937 - val_mae: 0.0354 - val_mse: 0.0020\n",
      "Epoch 3/20\n",
      "153/547 [=======>......................] - ETA: 10:17 - loss: 0.1944 - mae: 0.0427 - mse: 0.0027"
     ]
    }
   ],
   "source": [
    "sgd = ko.SGD(lr=0.005, decay=0., momentum=0.9, nesterov=True)\n",
    "model.compile(loss='mse',optimizer=sgd, metrics=['mae','mse'])\n",
    "\n",
    "model.fit(datat,\n",
    "          epochs=20,\n",
    "          validation_data=datav,\n",
    "          verbose=1)\n",
    "\n",
    "sgd = ko.SGD(lr=0.0005, decay=0., momentum=0.9, nesterov=True)\n",
    "model.compile(loss='mse',optimizer=sgd, metrics=['mae','mse'])\n",
    "\n",
    "model.fit(datat,\n",
    "          epochs=10,\n",
    "          validation_data=datav,\n",
    "          verbose=1)\n",
    "\n",
    "sgd = ko.SGD(lr=0.00005, decay=0., momentum=0.9, nesterov=True)\n",
    "model.compile(loss='mse',optimizer=sgd, metrics=['mae','mse'])\n",
    "\n",
    "model.fit(datat,\n",
    "          epochs=10,\n",
    "          validation_data=datav,\n",
    "          verbose=1)"
   ]
  },
  {
   "cell_type": "code",
   "execution_count": null,
   "id": "buried-answer",
   "metadata": {},
   "outputs": [],
   "source": []
  }
 ],
 "metadata": {
  "kernelspec": {
   "display_name": "Python 3",
   "language": "python",
   "name": "python3"
  },
  "language_info": {
   "codemirror_mode": {
    "name": "ipython",
    "version": 3
   },
   "file_extension": ".py",
   "mimetype": "text/x-python",
   "name": "python",
   "nbconvert_exporter": "python",
   "pygments_lexer": "ipython3",
   "version": "3.8.6"
  }
 },
 "nbformat": 4,
 "nbformat_minor": 5
}
